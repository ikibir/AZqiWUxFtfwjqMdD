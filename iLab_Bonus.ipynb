{
  "nbformat": 4,
  "nbformat_minor": 0,
  "metadata": {
    "colab": {
      "name": "iLab - Bonus.ipynb",
      "provenance": [],
      "collapsed_sections": []
    },
    "kernelspec": {
      "display_name": "Python 3",
      "language": "python",
      "name": "python3"
    },
    "language_info": {
      "codemirror_mode": {
        "name": "ipython",
        "version": 3
      },
      "file_extension": ".py",
      "mimetype": "text/x-python",
      "name": "python",
      "nbconvert_exporter": "python",
      "pygments_lexer": "ipython3",
      "version": "3.7.6"
    }
  },
  "cells": [
    {
      "cell_type": "code",
      "metadata": {
        "colab_type": "code",
        "id": "gu49HScV49mC",
        "colab": {}
      },
      "source": [
        "import pandas as pd\n",
        "import numpy as np\n",
        "from IPython.display import display\n",
        "from sklearn.preprocessing import LabelEncoder\n",
        "from sklearn.ensemble import RandomForestClassifier\n",
        "from sklearn.svm import SVC\n",
        "from sklearn.linear_model import LogisticRegression"
      ],
      "execution_count": 156,
      "outputs": []
    },
    {
      "cell_type": "code",
      "metadata": {
        "colab_type": "code",
        "id": "ek9FOY5V5Vje",
        "colab": {}
      },
      "source": [
        "# import warnings filter\n",
        "from warnings import simplefilter\n",
        "# ignore all future warnings\n",
        "simplefilter(action='ignore', category=FutureWarning)"
      ],
      "execution_count": 157,
      "outputs": []
    },
    {
      "cell_type": "code",
      "metadata": {
        "colab_type": "code",
        "id": "z9RIbEwGImad",
        "colab": {}
      },
      "source": [
        "label_encoder = LabelEncoder()\n",
        "def label_data(jobs):\n",
        "    global label_encoder\n",
        "    jobs = list(jobs)\n",
        "    data = {}\n",
        "    integer_encoded = label_encoder.fit_transform(jobs)\n",
        "\n",
        "    for z in list(set(zip(jobs,integer_encoded))):\n",
        "        job,code = z[0],z[1]\n",
        "        data[job] = code\n",
        "\n",
        "    return integer_encoded, data\n",
        "\n",
        "def is_numerical(value):\n",
        "    try:\n",
        "        float(value)\n",
        "    except:\n",
        "        return False\n",
        "    else:\n",
        "        return True\n"
      ],
      "execution_count": 158,
      "outputs": []
    },
    {
      "cell_type": "code",
      "metadata": {
        "colab_type": "code",
        "id": "4tl0w6sBImah",
        "colab": {
          "base_uri": "https://localhost:8080/",
          "height": 197
        },
        "outputId": "7af193e8-f8da-4185-a145-a7d665562539"
      },
      "source": [
        "df = pd.read_csv('term-deposit-marketing-2020.csv', sep=',')\n",
        "df = df.dropna(axis=\"columns\", how=\"any\")\n",
        "months = {'jan':1, 'feb':2, 'mar':3, 'apr':4, 'may':5, 'jun':6, 'jul':7, 'aug':8, 'sep':9, 'oct':10, 'nov':11, 'dec':12}\n",
        "\n",
        "display(df.head())"
      ],
      "execution_count": 160,
      "outputs": [
        {
          "output_type": "display_data",
          "data": {
            "text/html": [
              "<div>\n",
              "<style scoped>\n",
              "    .dataframe tbody tr th:only-of-type {\n",
              "        vertical-align: middle;\n",
              "    }\n",
              "\n",
              "    .dataframe tbody tr th {\n",
              "        vertical-align: top;\n",
              "    }\n",
              "\n",
              "    .dataframe thead th {\n",
              "        text-align: right;\n",
              "    }\n",
              "</style>\n",
              "<table border=\"1\" class=\"dataframe\">\n",
              "  <thead>\n",
              "    <tr style=\"text-align: right;\">\n",
              "      <th></th>\n",
              "      <th>age</th>\n",
              "      <th>job</th>\n",
              "      <th>marital</th>\n",
              "      <th>education</th>\n",
              "      <th>default</th>\n",
              "      <th>balance</th>\n",
              "      <th>housing</th>\n",
              "      <th>loan</th>\n",
              "      <th>contact</th>\n",
              "      <th>day</th>\n",
              "      <th>month</th>\n",
              "      <th>duration</th>\n",
              "      <th>campaign</th>\n",
              "      <th>y</th>\n",
              "    </tr>\n",
              "  </thead>\n",
              "  <tbody>\n",
              "    <tr>\n",
              "      <th>0</th>\n",
              "      <td>58</td>\n",
              "      <td>management</td>\n",
              "      <td>married</td>\n",
              "      <td>tertiary</td>\n",
              "      <td>no</td>\n",
              "      <td>2143</td>\n",
              "      <td>yes</td>\n",
              "      <td>no</td>\n",
              "      <td>unknown</td>\n",
              "      <td>5</td>\n",
              "      <td>may</td>\n",
              "      <td>261</td>\n",
              "      <td>1</td>\n",
              "      <td>no</td>\n",
              "    </tr>\n",
              "    <tr>\n",
              "      <th>1</th>\n",
              "      <td>44</td>\n",
              "      <td>technician</td>\n",
              "      <td>single</td>\n",
              "      <td>secondary</td>\n",
              "      <td>no</td>\n",
              "      <td>29</td>\n",
              "      <td>yes</td>\n",
              "      <td>no</td>\n",
              "      <td>unknown</td>\n",
              "      <td>5</td>\n",
              "      <td>may</td>\n",
              "      <td>151</td>\n",
              "      <td>1</td>\n",
              "      <td>no</td>\n",
              "    </tr>\n",
              "    <tr>\n",
              "      <th>2</th>\n",
              "      <td>33</td>\n",
              "      <td>entrepreneur</td>\n",
              "      <td>married</td>\n",
              "      <td>secondary</td>\n",
              "      <td>no</td>\n",
              "      <td>2</td>\n",
              "      <td>yes</td>\n",
              "      <td>yes</td>\n",
              "      <td>unknown</td>\n",
              "      <td>5</td>\n",
              "      <td>may</td>\n",
              "      <td>76</td>\n",
              "      <td>1</td>\n",
              "      <td>no</td>\n",
              "    </tr>\n",
              "    <tr>\n",
              "      <th>3</th>\n",
              "      <td>47</td>\n",
              "      <td>blue-collar</td>\n",
              "      <td>married</td>\n",
              "      <td>unknown</td>\n",
              "      <td>no</td>\n",
              "      <td>1506</td>\n",
              "      <td>yes</td>\n",
              "      <td>no</td>\n",
              "      <td>unknown</td>\n",
              "      <td>5</td>\n",
              "      <td>may</td>\n",
              "      <td>92</td>\n",
              "      <td>1</td>\n",
              "      <td>no</td>\n",
              "    </tr>\n",
              "    <tr>\n",
              "      <th>4</th>\n",
              "      <td>33</td>\n",
              "      <td>unknown</td>\n",
              "      <td>single</td>\n",
              "      <td>unknown</td>\n",
              "      <td>no</td>\n",
              "      <td>1</td>\n",
              "      <td>no</td>\n",
              "      <td>no</td>\n",
              "      <td>unknown</td>\n",
              "      <td>5</td>\n",
              "      <td>may</td>\n",
              "      <td>198</td>\n",
              "      <td>1</td>\n",
              "      <td>no</td>\n",
              "    </tr>\n",
              "  </tbody>\n",
              "</table>\n",
              "</div>"
            ],
            "text/plain": [
              "   age           job  marital  education  ... month  duration campaign   y\n",
              "0   58    management  married   tertiary  ...   may       261        1  no\n",
              "1   44    technician   single  secondary  ...   may       151        1  no\n",
              "2   33  entrepreneur  married  secondary  ...   may        76        1  no\n",
              "3   47   blue-collar  married    unknown  ...   may        92        1  no\n",
              "4   33       unknown   single    unknown  ...   may       198        1  no\n",
              "\n",
              "[5 rows x 14 columns]"
            ]
          },
          "metadata": {
            "tags": []
          }
        }
      ]
    },
    {
      "cell_type": "code",
      "metadata": {
        "colab_type": "code",
        "id": "MNmmoglkIman",
        "colab": {
          "base_uri": "https://localhost:8080/",
          "height": 197
        },
        "outputId": "64535dee-9535-46c0-837b-4735fd5c04e6"
      },
      "source": [
        "# Change all string type columns to numerical \n",
        "# Convert month and days columns to time\n",
        "dictionary = {}\n",
        "for key in df.keys():\n",
        "    if key == \"month\":\n",
        "        df[key] = [months[val] for val in df[key]]\n",
        "    if not is_numerical(df[key][0]):\n",
        "        df[key], dictionary[key] = label_data(list(df[key]))\n",
        "df['time'] = df['month']*30 + df['day']\n",
        "df = df.drop(columns=['day', 'month'])\n",
        "display(df.head())"
      ],
      "execution_count": 161,
      "outputs": [
        {
          "output_type": "display_data",
          "data": {
            "text/html": [
              "<div>\n",
              "<style scoped>\n",
              "    .dataframe tbody tr th:only-of-type {\n",
              "        vertical-align: middle;\n",
              "    }\n",
              "\n",
              "    .dataframe tbody tr th {\n",
              "        vertical-align: top;\n",
              "    }\n",
              "\n",
              "    .dataframe thead th {\n",
              "        text-align: right;\n",
              "    }\n",
              "</style>\n",
              "<table border=\"1\" class=\"dataframe\">\n",
              "  <thead>\n",
              "    <tr style=\"text-align: right;\">\n",
              "      <th></th>\n",
              "      <th>age</th>\n",
              "      <th>job</th>\n",
              "      <th>marital</th>\n",
              "      <th>education</th>\n",
              "      <th>default</th>\n",
              "      <th>balance</th>\n",
              "      <th>housing</th>\n",
              "      <th>loan</th>\n",
              "      <th>contact</th>\n",
              "      <th>duration</th>\n",
              "      <th>campaign</th>\n",
              "      <th>y</th>\n",
              "      <th>time</th>\n",
              "    </tr>\n",
              "  </thead>\n",
              "  <tbody>\n",
              "    <tr>\n",
              "      <th>0</th>\n",
              "      <td>58</td>\n",
              "      <td>4</td>\n",
              "      <td>1</td>\n",
              "      <td>2</td>\n",
              "      <td>0</td>\n",
              "      <td>2143</td>\n",
              "      <td>1</td>\n",
              "      <td>0</td>\n",
              "      <td>2</td>\n",
              "      <td>261</td>\n",
              "      <td>1</td>\n",
              "      <td>0</td>\n",
              "      <td>155</td>\n",
              "    </tr>\n",
              "    <tr>\n",
              "      <th>1</th>\n",
              "      <td>44</td>\n",
              "      <td>9</td>\n",
              "      <td>2</td>\n",
              "      <td>1</td>\n",
              "      <td>0</td>\n",
              "      <td>29</td>\n",
              "      <td>1</td>\n",
              "      <td>0</td>\n",
              "      <td>2</td>\n",
              "      <td>151</td>\n",
              "      <td>1</td>\n",
              "      <td>0</td>\n",
              "      <td>155</td>\n",
              "    </tr>\n",
              "    <tr>\n",
              "      <th>2</th>\n",
              "      <td>33</td>\n",
              "      <td>2</td>\n",
              "      <td>1</td>\n",
              "      <td>1</td>\n",
              "      <td>0</td>\n",
              "      <td>2</td>\n",
              "      <td>1</td>\n",
              "      <td>1</td>\n",
              "      <td>2</td>\n",
              "      <td>76</td>\n",
              "      <td>1</td>\n",
              "      <td>0</td>\n",
              "      <td>155</td>\n",
              "    </tr>\n",
              "    <tr>\n",
              "      <th>3</th>\n",
              "      <td>47</td>\n",
              "      <td>1</td>\n",
              "      <td>1</td>\n",
              "      <td>3</td>\n",
              "      <td>0</td>\n",
              "      <td>1506</td>\n",
              "      <td>1</td>\n",
              "      <td>0</td>\n",
              "      <td>2</td>\n",
              "      <td>92</td>\n",
              "      <td>1</td>\n",
              "      <td>0</td>\n",
              "      <td>155</td>\n",
              "    </tr>\n",
              "    <tr>\n",
              "      <th>4</th>\n",
              "      <td>33</td>\n",
              "      <td>11</td>\n",
              "      <td>2</td>\n",
              "      <td>3</td>\n",
              "      <td>0</td>\n",
              "      <td>1</td>\n",
              "      <td>0</td>\n",
              "      <td>0</td>\n",
              "      <td>2</td>\n",
              "      <td>198</td>\n",
              "      <td>1</td>\n",
              "      <td>0</td>\n",
              "      <td>155</td>\n",
              "    </tr>\n",
              "  </tbody>\n",
              "</table>\n",
              "</div>"
            ],
            "text/plain": [
              "   age  job  marital  education  default  ...  contact  duration  campaign  y  time\n",
              "0   58    4        1          2        0  ...        2       261         1  0   155\n",
              "1   44    9        2          1        0  ...        2       151         1  0   155\n",
              "2   33    2        1          1        0  ...        2        76         1  0   155\n",
              "3   47    1        1          3        0  ...        2        92         1  0   155\n",
              "4   33   11        2          3        0  ...        2       198         1  0   155\n",
              "\n",
              "[5 rows x 13 columns]"
            ]
          },
          "metadata": {
            "tags": []
          }
        }
      ]
    },
    {
      "cell_type": "code",
      "metadata": {
        "colab_type": "code",
        "id": "07eNnkfTImav",
        "colab": {
          "base_uri": "https://localhost:8080/",
          "height": 83
        },
        "outputId": "31dc458e-7757-49f4-df2c-7d2358e4353d"
      },
      "source": [
        "df_partial = df[df['y'] == 1]\n",
        "df_temp = df[df['y'] == 0]\n",
        "df_partial = df_partial.append(df_temp[:len(df_partial)  ], ignore_index = True)\n",
        "df_partial = df_partial.sample(frac=1, random_state=42)\n",
        "train_y = np.array(list(df_partial['y']))\n",
        "df_partial = df_partial.drop(columns=['y'])\n",
        "train_x = df_partial.to_numpy()\n",
        "\n",
        "\n",
        "abs_size = 500\n",
        "abs_test_x = train_x[-abs_size:]\n",
        "abs_test_y = train_y[-abs_size:]\n",
        "train_x, train_y = train_x[:-abs_size], train_y[:-abs_size]\n",
        "print(\"Train x shape: \",train_x.shape)\n",
        "print(\"Train y shape: \",train_y.shape)\n",
        "print(\"Test x shape: \",abs_test_x.shape)\n",
        "print(\"Test y shape: \",abs_test_x.shape)\n"
      ],
      "execution_count": 162,
      "outputs": [
        {
          "output_type": "stream",
          "text": [
            "Train x shape:  (5292, 12)\n",
            "Train y shape:  (5292,)\n",
            "Test x shape:  (500, 12)\n",
            "Test y shape:  (500, 12)\n"
          ],
          "name": "stdout"
        }
      ]
    },
    {
      "cell_type": "code",
      "metadata": {
        "colab_type": "code",
        "id": "SMM7MGdnImaz",
        "colab": {}
      },
      "source": [
        "from keras import models\n",
        "from keras import layers\n",
        "\n",
        "def build_model():\n",
        "    # Because we will need to instantiate\n",
        "    # the same model multiple times,\n",
        "    # we use a function to construct it.\n",
        "    model = models.Sequential()\n",
        "    model.add(layers.Dense(64, activation='relu',\n",
        "                           input_shape=(train_x.shape[1],)))\n",
        "    model.add(layers.Dense(16, activation='relu'))\n",
        "    model.add(layers.Dense(16, activation='relu'))\n",
        "    model.add(layers.Dense(1, activation='sigmoid') )\n",
        "    model.compile(optimizer='rmsprop', loss='binary_crossentropy', metrics=['accuracy', 'mean_absolute_error'])\n",
        "    return model"
      ],
      "execution_count": null,
      "outputs": []
    },
    {
      "cell_type": "code",
      "metadata": {
        "colab_type": "code",
        "id": "2BdCih8MIma3",
        "colab": {
          "base_uri": "https://localhost:8080/",
          "height": 867
        },
        "outputId": "69101666-6188-4331-ed76-766de3bead8a"
      },
      "source": [
        "from keras import backend as K\n",
        "K.clear_session()\n",
        "model = build_model()\n",
        "model.fit(train_x, train_y, epochs=25, batch_size=1, verbose=1)"
      ],
      "execution_count": null,
      "outputs": [
        {
          "output_type": "stream",
          "text": [
            "Epoch 1/25\n",
            "5292/5292 [==============================] - 6s 1ms/step - loss: 2.3686 - accuracy: 0.7426 - mean_absolute_error: 0.2807\n",
            "Epoch 2/25\n",
            "5292/5292 [==============================] - 5s 911us/step - loss: 1.0823 - accuracy: 0.7714 - mean_absolute_error: 0.2609\n",
            "Epoch 3/25\n",
            "5292/5292 [==============================] - 5s 943us/step - loss: 0.9250 - accuracy: 0.8239 - mean_absolute_error: 0.2171\n",
            "Epoch 4/25\n",
            "5292/5292 [==============================] - 5s 899us/step - loss: 0.7001 - accuracy: 0.8707 - mean_absolute_error: 0.1599\n",
            "Epoch 5/25\n",
            "5292/5292 [==============================] - 5s 908us/step - loss: 0.6481 - accuracy: 0.8908 - mean_absolute_error: 0.1299\n",
            "Epoch 6/25\n",
            "5292/5292 [==============================] - 5s 929us/step - loss: 0.6519 - accuracy: 0.8930 - mean_absolute_error: 0.1206\n",
            "Epoch 7/25\n",
            "5292/5292 [==============================] - 5s 924us/step - loss: 0.6682 - accuracy: 0.8985 - mean_absolute_error: 0.1132\n",
            "Epoch 8/25\n",
            "5292/5292 [==============================] - 5s 928us/step - loss: 0.6816 - accuracy: 0.9059 - mean_absolute_error: 0.1085\n",
            "Epoch 9/25\n",
            "5292/5292 [==============================] - 5s 903us/step - loss: 0.5501 - accuracy: 0.9152 - mean_absolute_error: 0.0968\n",
            "Epoch 10/25\n",
            "5292/5292 [==============================] - 5s 890us/step - loss: 0.6373 - accuracy: 0.9108 - mean_absolute_error: 0.1019\n",
            "Epoch 11/25\n",
            "5292/5292 [==============================] - 5s 891us/step - loss: 0.6289 - accuracy: 0.9153 - mean_absolute_error: 0.1007\n",
            "Epoch 12/25\n",
            "5292/5292 [==============================] - 5s 915us/step - loss: 0.6555 - accuracy: 0.9044 - mean_absolute_error: 0.1073\n",
            "Epoch 13/25\n",
            "5292/5292 [==============================] - 5s 900us/step - loss: 0.5358 - accuracy: 0.9119 - mean_absolute_error: 0.1005\n",
            "Epoch 14/25\n",
            "5292/5292 [==============================] - 5s 907us/step - loss: 0.8287 - accuracy: 0.9155 - mean_absolute_error: 0.0970\n",
            "Epoch 15/25\n",
            "5292/5292 [==============================] - 5s 940us/step - loss: 0.6006 - accuracy: 0.9218 - mean_absolute_error: 0.0911\n",
            "Epoch 16/25\n",
            "5292/5292 [==============================] - 5s 918us/step - loss: 0.7029 - accuracy: 0.9244 - mean_absolute_error: 0.0924\n",
            "Epoch 17/25\n",
            "5292/5292 [==============================] - 5s 931us/step - loss: 0.6390 - accuracy: 0.9297 - mean_absolute_error: 0.0853\n",
            "Epoch 18/25\n",
            "5292/5292 [==============================] - 5s 907us/step - loss: 0.5979 - accuracy: 0.9295 - mean_absolute_error: 0.0872\n",
            "Epoch 19/25\n",
            "5292/5292 [==============================] - 5s 921us/step - loss: 0.5476 - accuracy: 0.9280 - mean_absolute_error: 0.0878\n",
            "Epoch 20/25\n",
            "5292/5292 [==============================] - 5s 895us/step - loss: 0.4641 - accuracy: 0.9289 - mean_absolute_error: 0.0846\n",
            "Epoch 21/25\n",
            "5292/5292 [==============================] - 5s 924us/step - loss: 0.5816 - accuracy: 0.9267 - mean_absolute_error: 0.0865\n",
            "Epoch 22/25\n",
            "5292/5292 [==============================] - 5s 894us/step - loss: 0.5711 - accuracy: 0.9254 - mean_absolute_error: 0.0865\n",
            "Epoch 23/25\n",
            "5292/5292 [==============================] - 5s 908us/step - loss: 0.6128 - accuracy: 0.9297 - mean_absolute_error: 0.0825\n",
            "Epoch 24/25\n",
            "5292/5292 [==============================] - 5s 942us/step - loss: 0.5758 - accuracy: 0.9267 - mean_absolute_error: 0.0870\n",
            "Epoch 25/25\n",
            "5292/5292 [==============================] - 5s 894us/step - loss: 0.4679 - accuracy: 0.9303 - mean_absolute_error: 0.0797\n"
          ],
          "name": "stdout"
        },
        {
          "output_type": "execute_result",
          "data": {
            "text/plain": [
              "<tensorflow.python.keras.callbacks.History at 0x7fe89aab1f60>"
            ]
          },
          "metadata": {
            "tags": []
          },
          "execution_count": 153
        }
      ]
    },
    {
      "cell_type": "code",
      "metadata": {
        "id": "SGzlzGEFIbJP",
        "colab_type": "code",
        "colab": {
          "base_uri": "https://localhost:8080/",
          "height": 217
        },
        "outputId": "f48ab69d-99da-4d7b-d0a8-afaa541cd58d"
      },
      "source": [
        "keys = 'age', 'job', 'marital', 'education', 'default', 'balance', 'housing', 'loan', 'contact', 'duration', 'campaign', 'time'\n",
        "\n",
        "result = {}\n",
        "if True:\n",
        "  for i,keyy in enumerate(keys):\n",
        "    temp = abs_test_x.copy()\n",
        "    ma = max(temp[:,i])\n",
        "    temp[:,i] = [ma-elem for elem in temp[:,i]] \n",
        "\n",
        "    _, val_mae, _ = model.evaluate(temp, abs_test_y, verbose=0)\n",
        "    print(f\"Model score with opposite {keyy}: \", val_mae)\n",
        "    result[keyy] = val_mae"
      ],
      "execution_count": null,
      "outputs": [
        {
          "output_type": "stream",
          "text": [
            "Model score with opposite age:  0.9380000233650208\n",
            "Model score with opposite job:  0.9359999895095825\n",
            "Model score with opposite marital:  0.9359999895095825\n",
            "Model score with opposite education:  0.9419999718666077\n",
            "Model score with opposite default:  0.9440000057220459\n",
            "Model score with opposite balance:  0.4659999907016754\n",
            "Model score with opposite housing:  0.8640000224113464\n",
            "Model score with opposite loan:  0.9480000138282776\n",
            "Model score with opposite contact:  0.3840000033378601\n",
            "Model score with opposite duration:  0.46399998664855957\n",
            "Model score with opposite campaign:  0.7879999876022339\n",
            "Model score with opposite time:  0.8820000290870667\n"
          ],
          "name": "stdout"
        }
      ]
    },
    {
      "cell_type": "code",
      "metadata": {
        "colab_type": "code",
        "id": "MK7xI-icPUgc",
        "colab": {
          "base_uri": "https://localhost:8080/",
          "height": 233
        },
        "outputId": "555fc4f1-a64a-40f9-c0f6-073a77358647"
      },
      "source": [
        "print('From Most Effective Features To Least Effective')\n",
        "[elem[0] for elem in sorted(result.items(), key=lambda x: x[1])]"
      ],
      "execution_count": null,
      "outputs": [
        {
          "output_type": "stream",
          "text": [
            "From Most Effective Features To Least Effective\n"
          ],
          "name": "stdout"
        },
        {
          "output_type": "execute_result",
          "data": {
            "text/plain": [
              "['contact',\n",
              " 'duration',\n",
              " 'balance',\n",
              " 'campaign',\n",
              " 'housing',\n",
              " 'time',\n",
              " 'job',\n",
              " 'marital',\n",
              " 'age',\n",
              " 'education',\n",
              " 'default',\n",
              " 'loan']"
            ]
          },
          "metadata": {
            "tags": []
          },
          "execution_count": 155
        }
      ]
    },
    {
      "cell_type": "code",
      "metadata": {
        "colab_type": "code",
        "id": "nXyt_ILqS6ij",
        "colab": {}
      },
      "source": [
        ""
      ],
      "execution_count": null,
      "outputs": []
    },
    {
      "cell_type": "code",
      "metadata": {
        "colab_type": "code",
        "id": "Kj8dGXHpIma6",
        "colab": {}
      },
      "source": [
        ""
      ],
      "execution_count": null,
      "outputs": []
    },
    {
      "cell_type": "code",
      "metadata": {
        "colab_type": "code",
        "id": "pilRHtSMIma9",
        "colab": {}
      },
      "source": [
        ""
      ],
      "execution_count": null,
      "outputs": []
    }
  ]
}